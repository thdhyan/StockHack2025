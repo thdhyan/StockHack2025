{
  "nbformat": 4,
  "nbformat_minor": 0,
  "metadata": {
    "colab": {
      "provenance": [],
      "authorship_tag": "ABX9TyPb7/Fw13lO4bDkcHy3TFBp",
      "include_colab_link": true
    },
    "kernelspec": {
      "name": "python3",
      "display_name": "Python 3"
    },
    "language_info": {
      "name": "python"
    }
  },
  "cells": [
    {
      "cell_type": "markdown",
      "metadata": {
        "id": "view-in-github",
        "colab_type": "text"
      },
      "source": [
        "<a href=\"https://colab.research.google.com/github/thdhyan/StockHack2025/blob/main/stockhack.ipynb\" target=\"_parent\"><img src=\"https://colab.research.google.com/assets/colab-badge.svg\" alt=\"Open In Colab\"/></a>"
      ]
    },
    {
      "cell_type": "code",
      "source": [
        "!pip install mplfinance\n",
        "!pip install alpha_vantage\n",
        "!pip install alpaca-py"
      ],
      "metadata": {
        "id": "VmPu7u17L8P8"
      },
      "execution_count": null,
      "outputs": []
    },
    {
      "cell_type": "code",
      "execution_count": 37,
      "metadata": {
        "id": "qMOTUXeLJKaf"
      },
      "outputs": [],
      "source": [
        "#Imports\n",
        "\n",
        "import pandas as pd\n",
        "import numpy as np\n",
        "import matplotlib.pyplot as plt\n",
        "import seaborn as sns\n",
        "import plotly.express as px\n",
        "import yfinance as yf\n",
        "import mplfinance as mpf\n",
        "import pandas as pd\n",
        "import alpaca_trade_api as tradeapi\n",
        "from alpaca_trade_api.rest import TimeFrame\n",
        "from tqdm import tqdm\n",
        "\n",
        "# Replace these with your Alpaca API credentials\n",
        "API_KEY = \"PK4WF9YT0IMTLY2G3X7J\"\n",
        "API_SECRET = \"ImR8gLKbsOZ0z1laPcssKtyPouD0qJeKgYFhYDYq\"\n",
        "\n",
        "# Initialize Alpaca API\n",
        "api = tradeapi.REST(API_KEY, API_SECRET, base_url=\"https://paper-api.alpaca.markets\", api_version=\"v2\")"
      ]
    },
    {
      "cell_type": "markdown",
      "source": [
        "# Loading Data\n"
      ],
      "metadata": {
        "id": "pAx46L6bJM5G"
      }
    },
    {
      "cell_type": "markdown",
      "source": [
        "Stocks:\n",
        "\n",
        "Celsius Holdings, Inc. (CELH)\n",
        "\n",
        "Carvana Co. (CVNA)\n",
        "\n",
        "Upstart Holdings, Inc. (UPST)\n",
        "\n",
        "Altimmune, Inc. (ALT)\n",
        "\n",
        "FuboTV Inc. (FUBO)"
      ],
      "metadata": {
        "id": "Grne-iKGJQmr"
      }
    },
    {
      "cell_type": "code",
      "source": [
        "tickers = ['CVNA', 'CELH', 'UPST', 'ALT', 'FUBO']"
      ],
      "metadata": {
        "id": "WksSMdU4J6ON"
      },
      "execution_count": 82,
      "outputs": []
    },
    {
      "cell_type": "code",
      "source": [
        "\n",
        "def get_stock_data(ticker, start=\"2020-01-01\", end=\"2025-01-01\", timeframe=TimeFrame.Hour):\n",
        "    api = tradeapi.REST(API_KEY, API_SECRET, base_url=\"https://paper-api.alpaca.markets\", api_version=\"v2\")\n",
        "    bars = api.get_bars(ticker, timeframe, start=start, end=end).df\n",
        "    return bars\n",
        "\n",
        "dfs = {}\n",
        "for ticker in tqdm(tickers):\n",
        "    df = get_stock_data(ticker)\n",
        "    dfs[ticker] = df"
      ],
      "metadata": {
        "colab": {
          "base_uri": "https://localhost:8080/"
        },
        "id": "fqNB9w2FJRX6",
        "outputId": "99a3ad96-27c3-41ab-b6ae-24bebac494a8"
      },
      "execution_count": 121,
      "outputs": [
        {
          "output_type": "stream",
          "name": "stderr",
          "text": [
            " 60%|██████    | 3/5 [00:23<00:15,  7.88s/it]WARNING:alpaca_trade_api.rest:sleep 3 seconds and retrying https://data.alpaca.markets/v2/stocks/ALT/bars 3 more time(s)...\n",
            "WARNING:alpaca_trade_api.rest:sleep 3 seconds and retrying https://data.alpaca.markets/v2/stocks/ALT/bars 3 more time(s)...\n",
            " 80%|████████  | 4/5 [00:37<00:10, 10.21s/it]WARNING:alpaca_trade_api.rest:sleep 3 seconds and retrying https://data.alpaca.markets/v2/stocks/FUBO/bars 3 more time(s)...\n",
            "WARNING:alpaca_trade_api.rest:sleep 3 seconds and retrying https://data.alpaca.markets/v2/stocks/FUBO/bars 3 more time(s)...\n",
            "WARNING:alpaca_trade_api.rest:sleep 3 seconds and retrying https://data.alpaca.markets/v2/stocks/FUBO/bars 3 more time(s)...\n",
            "100%|██████████| 5/5 [00:56<00:00, 11.21s/it]\n"
          ]
        }
      ]
    },
    {
      "cell_type": "code",
      "source": [
        "for ticker, df in dfs.items():\n",
        "    print(f\"{ticker}: {df.shape}\")\n",
        "    #Download csv\n",
        "    df.to_csv(f\"{ticker}.csv\")\n"
      ],
      "metadata": {
        "colab": {
          "base_uri": "https://localhost:8080/"
        },
        "id": "q-2DsEtWnKxz",
        "outputId": "302ab4b8-cd67-40bc-988d-4a537611584d"
      },
      "execution_count": 140,
      "outputs": [
        {
          "output_type": "stream",
          "name": "stdout",
          "text": [
            "CVNA: (16244, 7)\n",
            "CELH: (14282, 7)\n",
            "UPST: (15384, 7)\n",
            "ALT: (14666, 7)\n",
            "FUBO: (16243, 7)\n"
          ]
        }
      ]
    },
    {
      "cell_type": "code",
      "source": [
        "from google.colab import files\n",
        "\n",
        "for ticker in tickers:\n",
        "    files.download(f\"{ticker}.csv\")"
      ],
      "metadata": {
        "colab": {
          "base_uri": "https://localhost:8080/",
          "height": 17
        },
        "id": "sFKxnch5t2mO",
        "outputId": "e79e2fcc-d441-4bb4-c5ed-45ff0be436d6"
      },
      "execution_count": 141,
      "outputs": [
        {
          "output_type": "display_data",
          "data": {
            "text/plain": [
              "<IPython.core.display.Javascript object>"
            ],
            "application/javascript": [
              "\n",
              "    async function download(id, filename, size) {\n",
              "      if (!google.colab.kernel.accessAllowed) {\n",
              "        return;\n",
              "      }\n",
              "      const div = document.createElement('div');\n",
              "      const label = document.createElement('label');\n",
              "      label.textContent = `Downloading \"${filename}\": `;\n",
              "      div.appendChild(label);\n",
              "      const progress = document.createElement('progress');\n",
              "      progress.max = size;\n",
              "      div.appendChild(progress);\n",
              "      document.body.appendChild(div);\n",
              "\n",
              "      const buffers = [];\n",
              "      let downloaded = 0;\n",
              "\n",
              "      const channel = await google.colab.kernel.comms.open(id);\n",
              "      // Send a message to notify the kernel that we're ready.\n",
              "      channel.send({})\n",
              "\n",
              "      for await (const message of channel.messages) {\n",
              "        // Send a message to notify the kernel that we're ready.\n",
              "        channel.send({})\n",
              "        if (message.buffers) {\n",
              "          for (const buffer of message.buffers) {\n",
              "            buffers.push(buffer);\n",
              "            downloaded += buffer.byteLength;\n",
              "            progress.value = downloaded;\n",
              "          }\n",
              "        }\n",
              "      }\n",
              "      const blob = new Blob(buffers, {type: 'application/binary'});\n",
              "      const a = document.createElement('a');\n",
              "      a.href = window.URL.createObjectURL(blob);\n",
              "      a.download = filename;\n",
              "      div.appendChild(a);\n",
              "      a.click();\n",
              "      div.remove();\n",
              "    }\n",
              "  "
            ]
          },
          "metadata": {}
        },
        {
          "output_type": "display_data",
          "data": {
            "text/plain": [
              "<IPython.core.display.Javascript object>"
            ],
            "application/javascript": [
              "download(\"download_4af91b5f-a04e-40aa-b615-227bd2d88b45\", \"CVNA.csv\", 1168275)"
            ]
          },
          "metadata": {}
        },
        {
          "output_type": "display_data",
          "data": {
            "text/plain": [
              "<IPython.core.display.Javascript object>"
            ],
            "application/javascript": [
              "\n",
              "    async function download(id, filename, size) {\n",
              "      if (!google.colab.kernel.accessAllowed) {\n",
              "        return;\n",
              "      }\n",
              "      const div = document.createElement('div');\n",
              "      const label = document.createElement('label');\n",
              "      label.textContent = `Downloading \"${filename}\": `;\n",
              "      div.appendChild(label);\n",
              "      const progress = document.createElement('progress');\n",
              "      progress.max = size;\n",
              "      div.appendChild(progress);\n",
              "      document.body.appendChild(div);\n",
              "\n",
              "      const buffers = [];\n",
              "      let downloaded = 0;\n",
              "\n",
              "      const channel = await google.colab.kernel.comms.open(id);\n",
              "      // Send a message to notify the kernel that we're ready.\n",
              "      channel.send({})\n",
              "\n",
              "      for await (const message of channel.messages) {\n",
              "        // Send a message to notify the kernel that we're ready.\n",
              "        channel.send({})\n",
              "        if (message.buffers) {\n",
              "          for (const buffer of message.buffers) {\n",
              "            buffers.push(buffer);\n",
              "            downloaded += buffer.byteLength;\n",
              "            progress.value = downloaded;\n",
              "          }\n",
              "        }\n",
              "      }\n",
              "      const blob = new Blob(buffers, {type: 'application/binary'});\n",
              "      const a = document.createElement('a');\n",
              "      a.href = window.URL.createObjectURL(blob);\n",
              "      a.download = filename;\n",
              "      div.appendChild(a);\n",
              "      a.click();\n",
              "      div.remove();\n",
              "    }\n",
              "  "
            ]
          },
          "metadata": {}
        },
        {
          "output_type": "display_data",
          "data": {
            "text/plain": [
              "<IPython.core.display.Javascript object>"
            ],
            "application/javascript": [
              "download(\"download_0ad2240a-e2ad-4d86-86e9-1191c7769705\", \"CELH.csv\", 1000607)"
            ]
          },
          "metadata": {}
        },
        {
          "output_type": "display_data",
          "data": {
            "text/plain": [
              "<IPython.core.display.Javascript object>"
            ],
            "application/javascript": [
              "\n",
              "    async function download(id, filename, size) {\n",
              "      if (!google.colab.kernel.accessAllowed) {\n",
              "        return;\n",
              "      }\n",
              "      const div = document.createElement('div');\n",
              "      const label = document.createElement('label');\n",
              "      label.textContent = `Downloading \"${filename}\": `;\n",
              "      div.appendChild(label);\n",
              "      const progress = document.createElement('progress');\n",
              "      progress.max = size;\n",
              "      div.appendChild(progress);\n",
              "      document.body.appendChild(div);\n",
              "\n",
              "      const buffers = [];\n",
              "      let downloaded = 0;\n",
              "\n",
              "      const channel = await google.colab.kernel.comms.open(id);\n",
              "      // Send a message to notify the kernel that we're ready.\n",
              "      channel.send({})\n",
              "\n",
              "      for await (const message of channel.messages) {\n",
              "        // Send a message to notify the kernel that we're ready.\n",
              "        channel.send({})\n",
              "        if (message.buffers) {\n",
              "          for (const buffer of message.buffers) {\n",
              "            buffers.push(buffer);\n",
              "            downloaded += buffer.byteLength;\n",
              "            progress.value = downloaded;\n",
              "          }\n",
              "        }\n",
              "      }\n",
              "      const blob = new Blob(buffers, {type: 'application/binary'});\n",
              "      const a = document.createElement('a');\n",
              "      a.href = window.URL.createObjectURL(blob);\n",
              "      a.download = filename;\n",
              "      div.appendChild(a);\n",
              "      a.click();\n",
              "      div.remove();\n",
              "    }\n",
              "  "
            ]
          },
          "metadata": {}
        },
        {
          "output_type": "display_data",
          "data": {
            "text/plain": [
              "<IPython.core.display.Javascript object>"
            ],
            "application/javascript": [
              "download(\"download_bbbe8f46-c898-45ec-b47d-2127f95f2eec\", \"UPST.csv\", 1100043)"
            ]
          },
          "metadata": {}
        },
        {
          "output_type": "display_data",
          "data": {
            "text/plain": [
              "<IPython.core.display.Javascript object>"
            ],
            "application/javascript": [
              "\n",
              "    async function download(id, filename, size) {\n",
              "      if (!google.colab.kernel.accessAllowed) {\n",
              "        return;\n",
              "      }\n",
              "      const div = document.createElement('div');\n",
              "      const label = document.createElement('label');\n",
              "      label.textContent = `Downloading \"${filename}\": `;\n",
              "      div.appendChild(label);\n",
              "      const progress = document.createElement('progress');\n",
              "      progress.max = size;\n",
              "      div.appendChild(progress);\n",
              "      document.body.appendChild(div);\n",
              "\n",
              "      const buffers = [];\n",
              "      let downloaded = 0;\n",
              "\n",
              "      const channel = await google.colab.kernel.comms.open(id);\n",
              "      // Send a message to notify the kernel that we're ready.\n",
              "      channel.send({})\n",
              "\n",
              "      for await (const message of channel.messages) {\n",
              "        // Send a message to notify the kernel that we're ready.\n",
              "        channel.send({})\n",
              "        if (message.buffers) {\n",
              "          for (const buffer of message.buffers) {\n",
              "            buffers.push(buffer);\n",
              "            downloaded += buffer.byteLength;\n",
              "            progress.value = downloaded;\n",
              "          }\n",
              "        }\n",
              "      }\n",
              "      const blob = new Blob(buffers, {type: 'application/binary'});\n",
              "      const a = document.createElement('a');\n",
              "      a.href = window.URL.createObjectURL(blob);\n",
              "      a.download = filename;\n",
              "      div.appendChild(a);\n",
              "      a.click();\n",
              "      div.remove();\n",
              "    }\n",
              "  "
            ]
          },
          "metadata": {}
        },
        {
          "output_type": "display_data",
          "data": {
            "text/plain": [
              "<IPython.core.display.Javascript object>"
            ],
            "application/javascript": [
              "download(\"download_fb30321a-1389-4f05-b65a-7741b0098b94\", \"ALT.csv\", 981900)"
            ]
          },
          "metadata": {}
        },
        {
          "output_type": "display_data",
          "data": {
            "text/plain": [
              "<IPython.core.display.Javascript object>"
            ],
            "application/javascript": [
              "\n",
              "    async function download(id, filename, size) {\n",
              "      if (!google.colab.kernel.accessAllowed) {\n",
              "        return;\n",
              "      }\n",
              "      const div = document.createElement('div');\n",
              "      const label = document.createElement('label');\n",
              "      label.textContent = `Downloading \"${filename}\": `;\n",
              "      div.appendChild(label);\n",
              "      const progress = document.createElement('progress');\n",
              "      progress.max = size;\n",
              "      div.appendChild(progress);\n",
              "      document.body.appendChild(div);\n",
              "\n",
              "      const buffers = [];\n",
              "      let downloaded = 0;\n",
              "\n",
              "      const channel = await google.colab.kernel.comms.open(id);\n",
              "      // Send a message to notify the kernel that we're ready.\n",
              "      channel.send({})\n",
              "\n",
              "      for await (const message of channel.messages) {\n",
              "        // Send a message to notify the kernel that we're ready.\n",
              "        channel.send({})\n",
              "        if (message.buffers) {\n",
              "          for (const buffer of message.buffers) {\n",
              "            buffers.push(buffer);\n",
              "            downloaded += buffer.byteLength;\n",
              "            progress.value = downloaded;\n",
              "          }\n",
              "        }\n",
              "      }\n",
              "      const blob = new Blob(buffers, {type: 'application/binary'});\n",
              "      const a = document.createElement('a');\n",
              "      a.href = window.URL.createObjectURL(blob);\n",
              "      a.download = filename;\n",
              "      div.appendChild(a);\n",
              "      a.click();\n",
              "      div.remove();\n",
              "    }\n",
              "  "
            ]
          },
          "metadata": {}
        },
        {
          "output_type": "display_data",
          "data": {
            "text/plain": [
              "<IPython.core.display.Javascript object>"
            ],
            "application/javascript": [
              "download(\"download_eb0f984c-da7b-4f03-99a2-49f8528ba7f0\", \"FUBO.csv\", 1095697)"
            ]
          },
          "metadata": {}
        }
      ]
    },
    {
      "cell_type": "code",
      "source": [
        "from sklearn.model_selection import TimeSeriesSplit\n",
        "\n",
        "n_splits = 5  # Number of folds\n",
        "tscv = TimeSeriesSplit(n_splits=n_splits)\n",
        "\n",
        "X = dfs[tickers[0]]  # Assuming X has a datetime index\n",
        "\n",
        "for fold, (train_idx, test_idx) in enumerate(tscv.split(X)):\n",
        "    train_start = X.index[train_idx[0]].date()\n",
        "    train_end = X.index[train_idx[-1]].date()\n",
        "    test_start = X.index[test_idx[0]].date()\n",
        "    test_end = X.index[test_idx[-1]].date()\n",
        "\n",
        "    train_days = (train_end - train_start).days + 1\n",
        "    test_days = (test_end - test_start).days + 1\n",
        "\n",
        "    print(f\"Fold {fold}:\")\n",
        "    print(f\"  Train from {train_start} up to {train_end} ({train_days} days)\")\n",
        "    print(f\"  Test from {test_start} to {test_end} ({test_days} days)\")\n",
        "    print(\"-\" * 50)\n",
        "    X_train = X.iloc[train_idx]\n",
        "    X_test = X.iloc[test_idx]\n",
        "    print(X_train.shape, X_test.shape)\n"
      ],
      "metadata": {
        "colab": {
          "base_uri": "https://localhost:8080/"
        },
        "id": "JlhRsluzKX5o",
        "outputId": "624a1aab-16ff-4995-c10a-965453f203fa"
      },
      "execution_count": 102,
      "outputs": [
        {
          "output_type": "stream",
          "name": "stdout",
          "text": [
            "Fold 0:\n",
            "  Train from 2022-01-03 up to 2022-07-27 (206 days)\n",
            "  Test from 2022-07-27 to 2023-01-13 (171 days)\n",
            "--------------------------------------------------\n",
            "(64500, 7) (64497, 7)\n",
            "Fold 1:\n",
            "  Train from 2022-01-03 up to 2023-01-13 (376 days)\n",
            "  Test from 2023-01-13 to 2023-06-14 (153 days)\n",
            "--------------------------------------------------\n",
            "(128997, 7) (64497, 7)\n",
            "Fold 2:\n",
            "  Train from 2022-01-03 up to 2023-06-14 (528 days)\n",
            "  Test from 2023-06-14 to 2023-11-24 (164 days)\n",
            "--------------------------------------------------\n",
            "(193494, 7) (64497, 7)\n",
            "Fold 3:\n",
            "  Train from 2022-01-03 up to 2023-11-24 (691 days)\n",
            "  Test from 2023-11-24 to 2024-05-30 (189 days)\n",
            "--------------------------------------------------\n",
            "(257991, 7) (64497, 7)\n",
            "Fold 4:\n",
            "  Train from 2022-01-03 up to 2024-05-30 (879 days)\n",
            "  Test from 2024-05-30 to 2025-01-01 (217 days)\n",
            "--------------------------------------------------\n",
            "(322488, 7) (64497, 7)\n"
          ]
        }
      ]
    },
    {
      "cell_type": "code",
      "source": [
        "def remove_stagnation(df, price_col='close', threshold=5):\n",
        "\n",
        "    df = df.copy()\n",
        "    df['price_change'] = df[price_col].diff().fillna(-1)\n",
        "    df['stagnant'] = df['price_change'] == -1\n",
        "    df['stagnation_group'] = (df['stagnant'] != df['stagnant'].shift()).cumsum()\n",
        "    stagnation_counts = df.groupby('stagnation_group')['stagnant'].transform('sum')\n",
        "    df = df[~((df['stagnant']) & (stagnation_counts >= threshold))]\n",
        "    df = df.drop(columns=['price_change', 'stagnant', 'stagnation_group'])\n",
        "\n",
        "    return df"
      ],
      "metadata": {
        "id": "XQOhBfaQwcYC"
      },
      "execution_count": 126,
      "outputs": []
    },
    {
      "cell_type": "markdown",
      "source": [
        "# Visualizations\n"
      ],
      "metadata": {
        "id": "mS9MP1lDLYml"
      }
    },
    {
      "cell_type": "code",
      "source": [
        "def plot_stock_price(df, ticker_name):\n",
        "    df['open'].plot(figsize=(12, 6), title=f\"{ticker_name} Stock Price\")\n",
        "    plt.xlabel(\"Date\")\n",
        "    plt.ylabel(\"Price (USD)\")\n",
        "    plt.show()"
      ],
      "metadata": {
        "id": "2ZOYJlWelAby"
      },
      "execution_count": 133,
      "outputs": []
    },
    {
      "cell_type": "code",
      "source": [
        "plot_stock_price(remove_stagnation(dfs[tickers[0]]), tickers[0])"
      ],
      "metadata": {
        "colab": {
          "base_uri": "https://localhost:8080/",
          "height": 526
        },
        "id": "NLbpGkMOlN4D",
        "outputId": "2e086372-b9ef-4c5e-b4d8-1a1178ebdba1"
      },
      "execution_count": 134,
      "outputs": [
        {
          "output_type": "display_data",
          "data": {
            "text/plain": [
              "<Figure size 1200x600 with 1 Axes>"
            ],
            "image/png": "[encoded data removed]"
          },
          "metadata": {}
        }
      ]
    },
    {
      "cell_type": "code",
      "source": [
        "dfs['ALT'].iloc[1000]"
      ],
      "metadata": {
        "colab": {
          "base_uri": "https://localhost:8080/",
          "height": 303
        },
        "id": "xXmoV_Wn8E3v",
        "outputId": "c0f72f6a-1d77-46ce-cea6-226dc1179c8e"
      },
      "execution_count": 135,
      "outputs": [
        {
          "output_type": "execute_result",
          "data": {
            "text/plain": [
              "close               4.010000\n",
              "high                4.160000\n",
              "low                 3.900000\n",
              "trade_count      2487.000000\n",
              "open                4.149900\n",
              "volume         669735.000000\n",
              "vwap                4.046976\n",
              "Name: 2020-05-13 16:00:00+00:00, dtype: float64"
            ],
            "text/html": [
              "<div>\n",
              "<style scoped>\n",
              "    .dataframe tbody tr th:only-of-type {\n",
              "        vertical-align: middle;\n",
              "    }\n",
              "\n",
              "    .dataframe tbody tr th {\n",
              "        vertical-align: top;\n",
              "    }\n",
              "\n",
              "    .dataframe thead th {\n",
              "        text-align: right;\n",
              "    }\n",
              "</style>\n",
              "<table border=\"1\" class=\"dataframe\">\n",
              "  <thead>\n",
              "    <tr style=\"text-align: right;\">\n",
              "      <th></th>\n",
              "      <th>2020-05-13 16:00:00+00:00</th>\n",
              "    </tr>\n",
              "  </thead>\n",
              "  <tbody>\n",
              "    <tr>\n",
              "      <th>close</th>\n",
              "      <td>4.010000</td>\n",
              "    </tr>\n",
              "    <tr>\n",
              "      <th>high</th>\n",
              "      <td>4.160000</td>\n",
              "    </tr>\n",
              "    <tr>\n",
              "      <th>low</th>\n",
              "      <td>3.900000</td>\n",
              "    </tr>\n",
              "    <tr>\n",
              "      <th>trade_count</th>\n",
              "      <td>2487.000000</td>\n",
              "    </tr>\n",
              "    <tr>\n",
              "      <th>open</th>\n",
              "      <td>4.149900</td>\n",
              "    </tr>\n",
              "    <tr>\n",
              "      <th>volume</th>\n",
              "      <td>669735.000000</td>\n",
              "    </tr>\n",
              "    <tr>\n",
              "      <th>vwap</th>\n",
              "      <td>4.046976</td>\n",
              "    </tr>\n",
              "  </tbody>\n",
              "</table>\n",
              "</div><br><label><b>dtype:</b> float64</label>"
            ]
          },
          "metadata": {},
          "execution_count": 135
        }
      ]
    },
    {
      "cell_type": "code",
      "source": [
        "#2 Index Fund, Nasdac, Natural Resource\n",
        "\n",
        "14*8*21\n",
        "\n",
        "\n",
        "# 1 sample 2 weeks\n"
      ],
      "metadata": {
        "colab": {
          "base_uri": "https://localhost:8080/"
        },
        "id": "aqUBV1PP8G5N",
        "outputId": "61627114-bf27-48d8-fb9d-780571510e62"
      },
      "execution_count": 139,
      "outputs": [
        {
          "output_type": "execute_result",
          "data": {
            "text/plain": [
              "2352"
            ]
          },
          "metadata": {},
          "execution_count": 139
        }
      ]
    },
    {
      "cell_type": "code",
      "source": [],
      "metadata": {
        "id": "e0AC98tq98N_"
      },
      "execution_count": null,
      "outputs": []
    }
  ]
}